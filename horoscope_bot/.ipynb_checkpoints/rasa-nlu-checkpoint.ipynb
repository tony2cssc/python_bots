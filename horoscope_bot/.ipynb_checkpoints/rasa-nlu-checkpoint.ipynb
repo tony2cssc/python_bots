{
 "cells": [
  {
   "cell_type": "code",
   "execution_count": null,
   "metadata": {},
   "outputs": [],
   "source": [
    "from rasa_nlu.training_data import load_data\n",
    "from rasa_nlu.model import Trainer\n",
    "from rasa_nlu import config\n",
    "from rasa_nlu.model import Interpreter\n",
    "def train_horoscopebot(data_json, config_file, model_dir):\n",
    "training_data = load_data(data_json)\n",
    "trainer = Trainer(config.load(config_file))\n",
    "trainer.train(training_data)\n",
    "model_directory = trainer.persist(model_dir, fixed_model_name =\n",
    "'horoscopebot')\n",
    "Chapter 4 Building Chatbots the Hard Way\n",
    "119\n",
    "def predict_intent(text):\n",
    "interpreter = Interpreter.load('./models/nlu/default/horoscopebot')\n",
    "print(interpreter.parse(text))"
   ]
  }
 ],
 "metadata": {
  "kernelspec": {
   "display_name": "Python 3",
   "language": "python",
   "name": "python3"
  },
  "language_info": {
   "codemirror_mode": {
    "name": "ipython",
    "version": 3
   },
   "file_extension": ".py",
   "mimetype": "text/x-python",
   "name": "python",
   "nbconvert_exporter": "python",
   "pygments_lexer": "ipython3",
   "version": "3.7.2"
  }
 },
 "nbformat": 4,
 "nbformat_minor": 2
}
