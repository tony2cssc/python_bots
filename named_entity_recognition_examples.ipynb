{
 "cells": [
  {
   "cell_type": "code",
   "execution_count": 3,
   "metadata": {},
   "outputs": [
    {
     "name": "stdout",
     "output_type": "stream",
     "text": [
      "Google ORG\n",
      "Mountain View GPE\n",
      "California GPE\n",
      "109.65 billion US dollars MONEY\n"
     ]
    }
   ],
   "source": [
    "import spacy\n",
    "\n",
    "nlp = spacy.load('en')\n",
    "\n",
    "my_string = u\"Google has its headquarters in Mountain View, California having revenue amounted to 109.65 billion US dollars\"\n",
    "doc = nlp(my_string)\n",
    "for ent in doc.ents:\n",
    "    print(ent.text, ent.label_)"
   ]
  },
  {
   "cell_type": "code",
   "execution_count": 4,
   "metadata": {},
   "outputs": [
    {
     "name": "stdout",
     "output_type": "stream",
     "text": [
      "Mark Zuckerberg PERSON\n",
      "May 14, 1984 DATE\n",
      "New York GPE\n",
      "American NORP\n",
      "Facebook ORG\n"
     ]
    }
   ],
   "source": [
    "my_string = u\"Mark Zuckerberg born May 14, 1984 in New York is an American technology entrepreneur and philanthropist best known for co-founding and leading Facebook as its chairman and CEO.\"\n",
    "doc = nlp(my_string)\n",
    "for ent in doc.ents:\n",
    "    print(ent.text, ent.label_)"
   ]
  },
  {
   "cell_type": "code",
   "execution_count": 5,
   "metadata": {},
   "outputs": [
    {
     "name": "stdout",
     "output_type": "stream",
     "text": [
      "9:00 AM TIME\n",
      "90% PERCENT\n"
     ]
    }
   ],
   "source": [
    "my_string = u\"I usually wake up at 9:00 AM. 90% of my daytime goes in learning new things.\"\n",
    "doc = nlp(my_string)\n",
    "for ent in doc.ents:\n",
    "    print(ent.text, ent.label_)"
   ]
  },
  {
   "cell_type": "code",
   "execution_count": 6,
   "metadata": {},
   "outputs": [
    {
     "name": "stdout",
     "output_type": "stream",
     "text": [
      "Imagine Dragons ORG\n"
     ]
    }
   ],
   "source": [
    "my_string1 = u\"Imagine Dragons are the best band.\"\n",
    "doc1 = nlp(my_string1)\n",
    "for ent in doc1.ents:\n",
    "    print(ent.text, ent.label_)"
   ]
  },
  {
   "cell_type": "code",
   "execution_count": 7,
   "metadata": {},
   "outputs": [],
   "source": [
    "my_string2 = u\"Imagine dragons come and take over the city.\"\n",
    "doc2 = nlp(my_string2)\n",
    "for ent in doc2.ents:\n",
    "    print(ent.text, ent.label_)"
   ]
  },
  {
   "cell_type": "code",
   "execution_count": 8,
   "metadata": {},
   "outputs": [
    {
     "name": "stdout",
     "output_type": "stream",
     "text": [
      "{'anyway', 'above', 'namely', 'see', 'there', 'behind', 'where', 'nowhere', 'they', 'everything', 'any', 'alone', 'somewhere', 'everywhere', 'is', 'anyone', 'one', 'here', 'whole', 'besides', 'thus', 'from', 'than', 'rather', 'and', 'become', 'side', 'seem', 'becoming', 'him', 'the', 'therein', 'very', 'almost', 'enough', 'can', 'me', 'off', 'ten', 'serious', 'about', 'if', 'sometimes', 'although', 'done', 'must', 'too', 'again', 'because', 'other', 'her', 'though', 'whereby', 'at', 'noone', 'so', 'eleven', 'together', 'while', 'no', 'she', 'into', 'not', 'always', 'thereby', 'with', 'two', 'top', 'least', 'on', 'their', 'however', 'across', 'through', 'nevertheless', 'why', 'that', 'even', 'go', 'otherwise', 'move', 'same', 'throughout', 'yet', 'afterwards', 'whereas', 'whereafter', 'get', 'next', 'six', 'first', 'within', 'another', 'anything', 'hence', 'each', 'empty', 'was', 'to', 'give', 'be', 'quite', 'have', 'since', 'themselves', 'bottom', 'hundred', 'whoever', 'three', 'moreover', 'regarding', 'put', 'hereby', 'latter', 'due', 'then', 'five', 'something', 'for', 'whither', 'front', 'last', 'whenever', 'less', 'or', 'those', 'ca', 'am', 'its', 'myself', 'his', 'few', 'along', 'keep', 'cannot', 'whereupon', 'which', 'much', 'per', 'will', 'who', 'would', 'someone', 'he', 'your', 'formerly', 'latterly', 'thereupon', 'now', 'seeming', 'were', 'i', 'more', 'somehow', 'in', 'others', 'out', 'seemed', 'still', 'yours', 'eight', 'of', 'several', 'mine', 'thence', 'herein', 'onto', 'well', 'seems', 'amongst', 'beforehand', 'just', 'toward', 'without', 'all', 'could', 'full', 'being', 'made', 'never', 'already', 'did', 'show', 'nobody', 'none', 'anywhere', 'sixty', 'whence', 'had', 'also', 'wherever', 'against', 'else', 'hereafter', 'our', 'really', 'former', 'this', 'elsewhere', 'whose', 'only', 'thru', 'we', 'has', 'various', 'under', 'becomes', 'such', 'an', 'ours', 'twelve', 'hers', 'indeed', 'are', 'herself', 'meanwhile', 'during', 'down', 'therefore', 'these', 'up', 'itself', 'forty', 'unless', 'us', 'nor', 'does', 'both', 'back', 'mostly', 'became', 'whom', 'yourselves', 'third', 'say', 'via', 'call', 'neither', 'amount', 'own', 'some', 'them', 'towards', 'except', 'doing', 'may', 'below', 'part', 'sometime', 'yourself', 'most', 'anyhow', 'as', 'thereafter', 'among', 'hereupon', 'used', 'do', 'everyone', 'fifteen', 'before', 'should', 'when', 'you', 'make', 'between', 'further', 'often', 'around', 'many', 'nine', 're', 'over', 'until', 'perhaps', 'please', 'twenty', 'four', 'fifty', 'himself', 'once', 'whether', 'take', 'either', 'after', 'how', 'wherein', 'but', 'by', 'ever', 'using', 'might', 'my', 'whatever', 'been', 'it', 'name', 'nothing', 'upon', 'every', 'what', 'beside', 'a', 'beyond', 'ourselves'}\n"
     ]
    }
   ],
   "source": [
    "from spacy.lang.en.stop_words import STOP_WORDS\n",
    "print(STOP_WORDS)\n"
   ]
  },
  {
   "cell_type": "code",
   "execution_count": null,
   "metadata": {},
   "outputs": [],
   "source": []
  }
 ],
 "metadata": {
  "kernelspec": {
   "display_name": "Python 3",
   "language": "python",
   "name": "python3"
  },
  "language_info": {
   "codemirror_mode": {
    "name": "ipython",
    "version": 3
   },
   "file_extension": ".py",
   "mimetype": "text/x-python",
   "name": "python",
   "nbconvert_exporter": "python",
   "pygments_lexer": "ipython3",
   "version": "3.7.2"
  }
 },
 "nbformat": 4,
 "nbformat_minor": 2
}
